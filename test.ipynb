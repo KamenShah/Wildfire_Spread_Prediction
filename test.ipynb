{
 "cells": [
  {
   "cell_type": "code",
   "execution_count": 7,
   "metadata": {},
   "outputs": [],
   "source": [
    "import ee\n",
    "import geemap"
   ]
  },
  {
   "cell_type": "code",
   "execution_count": 8,
   "metadata": {},
   "outputs": [
    {
     "data": {
      "application/vnd.jupyter.widget-view+json": {
       "model_id": "9f8859c896d94e39bad505171a6d7d6d",
       "version_major": 2,
       "version_minor": 0
      },
      "text/plain": [
       "Map(center=[40, -100], controls=(WidgetControl(options=['position', 'transparent_bg'], widget=HBox(children=(T…"
      ]
     },
     "metadata": {},
     "output_type": "display_data"
    }
   ],
   "source": [
    "Map = geemap.Map(center=[40,-100], zoom=4)\n",
    "Map"
   ]
  },
  {
   "cell_type": "code",
   "execution_count": 13,
   "metadata": {},
   "outputs": [],
   "source": [
    "ee.Initialize()\n",
    "# Add Earth Engine dataset\n",
    "# collection = ee.ImageCollection(\"NOAA/GOES/17/FDCF\")\n",
    "\n",
    "# Add Earth Engine dataset\n",
    "# Create arbitrary constant images.\n",
    "# constant1 = ee.Image(1)\n",
    "# constant2 = ee.Image(2)\n",
    "\n",
    "# Create a collection by giving a list to the constructor.\n",
    "collectionFromConstructor = ee.ImageCollection(\"NOAA/GOES/17/FDCF\").filterDate('2018-08-27', '2018-08-28')\n",
    "# print('collectionFromConstructor: ', collectionFromConstructor.getInfo())\n",
    "\n",
    "# Create a collection with fromImages().\n",
    "# collectionFromImages = ee.ImageCollection.fromImages(\n",
    "#   [ee.Image(3), ee.Image(4)])\n",
    "# print('collectionFromImages: ', collectionFromImages.getInfo())\n",
    "\n",
    "# Merge two collections.\n",
    "# mergedCollection = collectionFromConstructor.merge(collectionFromImages)\n",
    "# print('mergedCollection: ', mergedCollection.getInfo())\n",
    "\n",
    "# # Create a toy FeatureCollection\n",
    "# features = ee.FeatureCollection(\n",
    "#   [ee.Feature({}, {'foo': 1}), ee.Feature({}, {'foo': 2})])\n",
    "\n",
    "# # Create an ImageCollection from the FeatureCollection\n",
    "# # by mapping a function over the FeatureCollection.\n",
    "# images = features.map(function(feature) {\n",
    "#   return ee.Image(ee.Number(feature.get('foo')))\n",
    "# })\n",
    "\n",
    "# # Print the resultant collection.\n",
    "# print('Image collection: ', images)"
   ]
  },
  {
   "cell_type": "code",
   "execution_count": 14,
   "metadata": {},
   "outputs": [
    {
     "data": {
      "application/vnd.jupyter.widget-view+json": {
       "model_id": "9f8859c896d94e39bad505171a6d7d6d",
       "version_major": 2,
       "version_minor": 0
      },
      "text/plain": [
       "Map(center=[40, -100], controls=(WidgetControl(options=['position', 'transparent_bg'], widget=HBox(children=(T…"
      ]
     },
     "metadata": {},
     "output_type": "display_data"
    }
   ],
   "source": [
    "Map.addLayerControl() # This line is not needed for ipyleaflet-based Map.\n",
    "Map"
   ]
  },
  {
   "cell_type": "code",
   "execution_count": null,
   "metadata": {},
   "outputs": [],
   "source": []
  }
 ],
 "metadata": {
  "interpreter": {
   "hash": "f61f89e8956321a43350248b2ec4ab76d5216a5db1b919974f3b481154320c74"
  },
  "kernelspec": {
   "display_name": "Python 3.7.7 ('wildfire-dl')",
   "language": "python",
   "name": "python3"
  },
  "language_info": {
   "codemirror_mode": {
    "name": "ipython",
    "version": 3
   },
   "file_extension": ".py",
   "mimetype": "text/x-python",
   "name": "python",
   "nbconvert_exporter": "python",
   "pygments_lexer": "ipython3",
   "version": "3.7.7"
  },
  "orig_nbformat": 4
 },
 "nbformat": 4,
 "nbformat_minor": 2
}
